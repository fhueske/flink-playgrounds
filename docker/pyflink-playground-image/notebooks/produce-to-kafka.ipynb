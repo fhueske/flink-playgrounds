{
 "cells": [
  {
   "cell_type": "markdown",
   "metadata": {},
   "source": [
    "### Write to Kafka"
   ]
  },
  {
   "cell_type": "code",
   "execution_count": null,
   "metadata": {
    "collapsed": false
   },
   "outputs": [],
   "source": [
    "TOPIC = \"clicks\"\n",
    "KAFKA_HOST = \"kafka:9092\"\n",
    "\n",
    "from kafka import KafkaProducer\n",
    "from time import gmtime, strftime, sleep\n",
    "import random\n",
    "import json\n",
    "\n",
    "MSG_PER_SEC = 10\n",
    "\n",
    "producer = KafkaProducer(\n",
    "    bootstrap_servers=KAFKA_HOST,\n",
    "    value_serializer=lambda v: json.dumps(v).encode('utf-8'))\n",
    "\n",
    "print(\"Start producing \" + str(MSG_PER_SEC) + \" messages per second to topic '\" + TOPIC + \"'...\")\n",
    "\n",
    "while True:\n",
    "    # our store offers only 8 products\n",
    "    url = 'https://mystore.com/prod?id=' + str(random.randint(0, 8))\n",
    "    # we have 10k users\n",
    "    user = 'user_' + str(random.randint(0, 10000))\n",
    "    clicktime = strftime(\"%Y-%m-%dT%H:%M:%S.000Z\", gmtime())\n",
    "    \n",
    "    producer.send(TOPIC, {\n",
    "        'url': url,\n",
    "        'user': user,\n",
    "        'ctime': clicktime})\n",
    "    producer.flush()\n",
    "    sleep(1.0 / MSG_PER_SEC) #wait for next message"
   ]
  }
 ],
 "metadata": {
  "kernelspec": {
   "display_name": "Python 2",
   "language": "python",
   "name": "python2"
  },
  "language_info": {
   "codemirror_mode": {
    "name": "ipython",
    "version": 2
   },
   "file_extension": ".py",
   "mimetype": "text/x-python",
   "name": "python",
   "nbconvert_exporter": "python",
   "pygments_lexer": "ipython2",
   "version": "2.7.13"
  }
 },
 "nbformat": 4,
 "nbformat_minor": 2
}
