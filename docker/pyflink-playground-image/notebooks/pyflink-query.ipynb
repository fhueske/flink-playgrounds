{
 "cells": [
  {
   "cell_type": "markdown",
   "metadata": {},
   "source": [
    "### Configuring Environments and Source and Sink Tables"
   ]
  },
  {
   "cell_type": "code",
   "execution_count": null,
   "metadata": {
    "collapsed": true
   },
   "outputs": [],
   "source": [
    "from pyflink.datastream import StreamExecutionEnvironment, TimeCharacteristic\n",
    "from pyflink.table import TableConfig, DataTypes, StreamTableEnvironment\n",
    "from pyflink.table.descriptors import Schema, Json, Kafka, Rowtime\n",
    "from pyflink.table.window import Tumble\n",
    "\n",
    "exec_env = StreamExecutionEnvironment.get_execution_environment()\n",
    "exec_env.set_stream_time_characteristic(TimeCharacteristic.EventTime)\n",
    "exec_env.set_parallelism(2)\n",
    "\n",
    "t_config = TableConfig()\n",
    "t_env = StreamTableEnvironment.create(exec_env, t_config)\n",
    "\n",
    "# Define 'clicks' source table on JSON-encoded Kafka topic 'clicks'\n",
    "t_env.connect(\n",
    "    Kafka()\n",
    "        .version(\"universal\")\n",
    "        .topic('clicks')\n",
    "        .property(\"bootstrap.servers\", \"kafka:9092\")\n",
    "        .property(\"group.id\", \"joho!\")\n",
    "        .start_from_earliest()) \\\n",
    "        .in_append_mode() \\\n",
    "    .with_format(\n",
    "        Json()\n",
    "        .json_schema(\"{\" +\n",
    "                     \"'title': 'clicks', \" +\n",
    "                     \"'type': 'object', \" + \n",
    "                     \"'properties' : {\" + \n",
    "                     \"  'url': {'type': 'string'}, \" + \n",
    "                     \"  'user': {'type': 'string'}, \" +\n",
    "                     \"  'ctime': {'type': 'string', 'format': 'date-time'} \"+ \n",
    "                     \"}}\")) \\\n",
    "    .with_schema(\n",
    "        Schema()\n",
    "        .field(\"url\", \"VARCHAR\")\n",
    "        .field(\"user\", \"VARCHAR\")\n",
    "        .field(\"clicktime\", \"TIMESTAMP\") \\\n",
    "                .rowtime(Rowtime()\n",
    "                         .timestamps_from_field('ctime')\n",
    "                         .watermarks_periodic_ascending())) \\\n",
    "    .register_table_source('clicks')\n",
    "\n",
    "# Define 'click-counts' sink table on Kafka topic 'click-counts' with JSON encoding\n",
    "t_env.connect(Kafka()\n",
    "        .version(\"universal\")\n",
    "        .topic('click-counts')\n",
    "        .property(\"bootstrap.servers\", \"kafka:9092\")\n",
    "        .property(\"group.id\", \"my-group\")) \\\n",
    "        .in_append_mode() \\\n",
    "    .with_format(\n",
    "        Json().derive_schema()) \\\n",
    "    .with_schema(\n",
    "        Schema()\n",
    "        .field(\"url\", \"VARCHAR\")\n",
    "        .field(\"count\", \"BIGINT\")\n",
    "        .field(\"cntstart\", \"TIMESTAMP\") \\\n",
    "        .field(\"cntend\", \"TIMESTAMP\")) \\\n",
    "    .register_table_sink(\"click-counts\")"
   ]
  },
  {
   "cell_type": "markdown",
   "metadata": {},
   "source": [
    "### Defining and Running a Python Table API Query"
   ]
  },
  {
   "cell_type": "code",
   "execution_count": null,
   "metadata": {
    "collapsed": false
   },
   "outputs": [],
   "source": [
    "# Define query that reads from clicks source table, \n",
    "#   counts clicks per URL and 15 sec window,\n",
    "#   and writes the result to the sink table.\n",
    "t_env \\\n",
    "    .scan('clicks') \\\n",
    "    .window(Tumble.over('15.seconds').on('clicktime').alias('w')) \\\n",
    "    .group_by('url, w') \\\n",
    "    .select('url, user.count as count, w.start as cntstart, w.end as cntend') \\\n",
    "    .insert_into('click-counts')\n",
    "  \n",
    "# execute query\n",
    "print(\"Start query...\")\n",
    "t_env.execute(\"Count Clicks\")"
   ]
  },
  {
   "cell_type": "code",
   "execution_count": null,
   "metadata": {
    "collapsed": true
   },
   "outputs": [],
   "source": []
  }
 ],
 "metadata": {
  "kernelspec": {
   "display_name": "Python 2",
   "language": "python",
   "name": "python2"
  },
  "language_info": {
   "codemirror_mode": {
    "name": "ipython",
    "version": 2
   },
   "file_extension": ".py",
   "mimetype": "text/x-python",
   "name": "python",
   "nbconvert_exporter": "python",
   "pygments_lexer": "ipython2",
   "version": "2.7.13"
  }
 },
 "nbformat": 4,
 "nbformat_minor": 2
}
