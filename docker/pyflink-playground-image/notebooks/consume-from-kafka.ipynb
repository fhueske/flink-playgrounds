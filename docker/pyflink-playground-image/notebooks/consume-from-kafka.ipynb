{
 "cells": [
  {
   "cell_type": "markdown",
   "metadata": {},
   "source": [
    "### Read from Kafka"
   ]
  },
  {
   "cell_type": "code",
   "execution_count": null,
   "metadata": {
    "collapsed": false
   },
   "outputs": [],
   "source": [
    "TOPIC = \"click-counts\"\n",
    "KAFKA_HOST = \"kafka:9092\"\n",
    "GROUP_ID = \"pyflink-playground\"\n",
    "\n",
    "from kafka import KafkaConsumer\n",
    "\n",
    "consumer = KafkaConsumer(\n",
    "    TOPIC,\n",
    "    bootstrap_servers = KAFKA_HOST, \n",
    "    group_id = GROUP_ID)\n",
    "\n",
    "print(\"Start consuming messages from topic '\" + TOPIC + \"'...\")\n",
    "for msg in consumer:\n",
    "    print(\"> \" + msg.value)\n",
    "    \n",
    "client.close()"
   ]
  }
 ],
 "metadata": {
  "kernelspec": {
   "display_name": "Python 2",
   "language": "python",
   "name": "python2"
  },
  "language_info": {
   "codemirror_mode": {
    "name": "ipython",
    "version": 2
   },
   "file_extension": ".py",
   "mimetype": "text/x-python",
   "name": "python",
   "nbconvert_exporter": "python",
   "pygments_lexer": "ipython2",
   "version": "2.7.13"
  }
 },
 "nbformat": 4,
 "nbformat_minor": 2
}